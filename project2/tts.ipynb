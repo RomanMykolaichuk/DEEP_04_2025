{
 "cells": [
  {
   "cell_type": "code",
   "execution_count": 1,
   "id": "b2b531b9",
   "metadata": {},
   "outputs": [
    {
     "name": "stdout",
     "output_type": "stream",
     "text": [
      "Collecting gTTS\n",
      "  Downloading gTTS-2.5.4-py3-none-any.whl.metadata (4.1 kB)\n",
      "Requirement already satisfied: requests<3,>=2.27 in c:\\users\\mykro\\appdata\\local\\programs\\python\\python311\\lib\\site-packages (from gTTS) (2.32.3)\n",
      "Requirement already satisfied: click<8.2,>=7.1 in c:\\users\\mykro\\appdata\\local\\programs\\python\\python311\\lib\\site-packages (from gTTS) (8.1.7)\n",
      "Requirement already satisfied: colorama in c:\\users\\mykro\\appdata\\roaming\\python\\python311\\site-packages (from click<8.2,>=7.1->gTTS) (0.4.6)\n",
      "Requirement already satisfied: charset-normalizer<4,>=2 in c:\\users\\mykro\\appdata\\local\\programs\\python\\python311\\lib\\site-packages (from requests<3,>=2.27->gTTS) (3.4.0)\n",
      "Requirement already satisfied: idna<4,>=2.5 in c:\\users\\mykro\\appdata\\local\\programs\\python\\python311\\lib\\site-packages (from requests<3,>=2.27->gTTS) (2.10)\n",
      "Requirement already satisfied: urllib3<3,>=1.21.1 in c:\\users\\mykro\\appdata\\local\\programs\\python\\python311\\lib\\site-packages (from requests<3,>=2.27->gTTS) (2.2.3)\n",
      "Requirement already satisfied: certifi>=2017.4.17 in c:\\users\\mykro\\appdata\\local\\programs\\python\\python311\\lib\\site-packages (from requests<3,>=2.27->gTTS) (2024.8.30)\n",
      "Downloading gTTS-2.5.4-py3-none-any.whl (29 kB)\n",
      "Installing collected packages: gTTS\n",
      "Successfully installed gTTS-2.5.4\n",
      "Note: you may need to restart the kernel to use updated packages.\n"
     ]
    }
   ],
   "source": [
    "%pip install gTTS"
   ]
  },
  {
   "cell_type": "code",
   "execution_count": 2,
   "id": "1403fdf1",
   "metadata": {},
   "outputs": [],
   "source": [
    "from gtts import gTTS\n",
    "tts = gTTS('A new release of pip is available')\n",
    "tts.save('hello.mp3')"
   ]
  },
  {
   "cell_type": "code",
   "execution_count": 3,
   "id": "c9face87",
   "metadata": {},
   "outputs": [],
   "source": [
    "tts = gTTS('The landscape of higher education has undergone a significant transformation, with online learning shifting from a niche offering to a mainstream modality. This expansion, accelerated by events like the COVID-19 pandemic , has created an unprecedented demand not just for online courses, but for high-quality online learning experiences. Institutions are increasingly recognizing that simply transferring face-to-face content online is insufficient. Achieving excellence in digital learning requires a dedicated focus on quality across multiple dimensions, including learning effectiveness, student and instructor experience, scale, and access. ')\n",
    "tts.save('long1.mp3')"
   ]
  },
  {
   "cell_type": "code",
   "execution_count": 3,
   "id": "b28c044d",
   "metadata": {},
   "outputs": [],
   "source": [
    "tts = gTTS('Доброго вечора ми з України! Раді вітати учасників науково-практичної конференції', lang='uk')\n",
    "tts.save('ukr.mp3')"
   ]
  },
  {
   "cell_type": "code",
   "execution_count": null,
   "id": "3f4da3a4",
   "metadata": {},
   "outputs": [],
   "source": []
  }
 ],
 "metadata": {
  "kernelspec": {
   "display_name": "Python 3",
   "language": "python",
   "name": "python3"
  },
  "language_info": {
   "codemirror_mode": {
    "name": "ipython",
    "version": 3
   },
   "file_extension": ".py",
   "mimetype": "text/x-python",
   "name": "python",
   "nbconvert_exporter": "python",
   "pygments_lexer": "ipython3",
   "version": "3.11.9"
  }
 },
 "nbformat": 4,
 "nbformat_minor": 5
}
