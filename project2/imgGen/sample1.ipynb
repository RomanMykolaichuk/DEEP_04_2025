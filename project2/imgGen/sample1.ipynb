{
 "cells": [
  {
   "cell_type": "code",
   "execution_count": 6,
   "metadata": {},
   "outputs": [],
   "source": [
    "from google import genai\n",
    "from google.genai import types\n",
    "from PIL import Image\n",
    "from io import BytesIO\n",
    "import base64\n",
    "\n",
    "import os\n",
    "import dotenv\n",
    "\n",
    "dotenv.load_dotenv()\n",
    "\n",
    "os.environ['GOOGLE_API_KEY'] = os.getenv('GOOGLE_API_KEY')\n",
    "\n",
    "client = genai.Client()\n",
    "\n",
    "contents = (\"\"\"\n",
    "            Main subject:\n",
    "AURA is a sleek, humanoid robot standing at average human height (about 170 cm), with a soft white-and-silver composite body.\n",
    "Her outer shell is made of matte smart-alloy plating with glowing seams of soft blue or violet light, subtly pulsating in sync with her activity.\n",
    "Her face is smooth and expressive, made of flexible nanomaterial allowing minimal facial expressions — gentle eyes with adaptive LED pupils that change color depending on mood (blue = neutral, green = encouraging, amber = analytical).\n",
    "Around her temples, fine silver lines flow into a translucent holographic headband that projects subtle data visuals — math formulas, maps, or student profiles.\n",
    "Design Elements:\n",
    "Her chest plate displays a holographic badge with an open book and a brain icon — symbolizing the fusion of knowledge and AI.\n",
    "Fingers are slender and jointed, with embedded laser pointers and touch sensors for precise board writing and digital interface navigation.\n",
    "She often holds a tablet-like projection pad or can summon a floating interactive UI, which only she controls with hand gestures.\n",
    "\n",
    "Generate imagewith main subject and background: \n",
    "            AI-assisted personalized learning paths displayed as glowing streams connecting a student to different knowledge spheres, \n",
    "            dreamlike and imaginative style\n",
    "\"\"\")\n",
    "\n",
    "response = client.models.generate_content(\n",
    "    model=\"gemini-2.0-flash-exp-image-generation\",\n",
    "    contents=contents,\n",
    "    config=types.GenerateContentConfig(\n",
    "      response_modalities=['TEXT', 'IMAGE']\n",
    "    )\n",
    ")\n",
    "\n",
    "for part in response.candidates[0].content.parts:\n",
    "  if part.text is not None:\n",
    "    print(part.text)\n",
    "  elif part.inline_data is not None:\n",
    "    image = Image.open(BytesIO((part.inline_data.data)))\n",
    "    image.save('gemini-native-image3.png')\n",
    "    image.show()"
   ]
  }
 ],
 "metadata": {
  "kernelspec": {
   "display_name": "Python 3",
   "language": "python",
   "name": "python3"
  },
  "language_info": {
   "codemirror_mode": {
    "name": "ipython",
    "version": 3
   },
   "file_extension": ".py",
   "mimetype": "text/x-python",
   "name": "python",
   "nbconvert_exporter": "python",
   "pygments_lexer": "ipython3",
   "version": "3.11.9"
  }
 },
 "nbformat": 4,
 "nbformat_minor": 2
}
