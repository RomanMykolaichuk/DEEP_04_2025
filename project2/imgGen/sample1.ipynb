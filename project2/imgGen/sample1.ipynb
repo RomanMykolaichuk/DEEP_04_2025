{
 "cells": [
  {
   "cell_type": "code",
   "execution_count": 2,
   "metadata": {},
   "outputs": [
    {
     "name": "stdout",
     "output_type": "stream",
     "text": [
      "Note: you may need to restart the kernel to use updated packages.\n"
     ]
    },
    {
     "name": "stderr",
     "output_type": "stream",
     "text": [
      "  WARNING: The script websockets.exe is installed in 'c:\\Users\\38068\\AppData\\Local\\Programs\\Python\\Python311\\Scripts' which is not on PATH.\n",
      "  Consider adding this directory to PATH or, if you prefer to suppress this warning, use --no-warn-script-location.\n",
      "\n",
      "[notice] A new release of pip is available: 24.0 -> 25.0.1\n",
      "[notice] To update, run: python.exe -m pip install --upgrade pip\n"
     ]
    },
    {
     "name": "stdout",
     "output_type": "stream",
     "text": [
      "Collecting google-genai\n",
      "  Using cached google_genai-1.12.1-py3-none-any.whl.metadata (32 kB)\n",
      "Requirement already satisfied: anyio<5.0.0,>=4.8.0 in c:\\users\\38068\\appdata\\local\\programs\\python\\python311\\lib\\site-packages (from google-genai) (4.9.0)\n",
      "Requirement already satisfied: google-auth<3.0.0,>=2.14.1 in c:\\users\\38068\\appdata\\local\\programs\\python\\python311\\lib\\site-packages (from google-genai) (2.37.0)\n",
      "Requirement already satisfied: httpx<1.0.0,>=0.28.1 in c:\\users\\38068\\appdata\\local\\programs\\python\\python311\\lib\\site-packages (from google-genai) (0.28.1)\n",
      "Requirement already satisfied: pydantic<3.0.0,>=2.0.0 in c:\\users\\38068\\appdata\\local\\programs\\python\\python311\\lib\\site-packages (from google-genai) (2.10.4)\n",
      "Requirement already satisfied: requests<3.0.0,>=2.28.1 in c:\\users\\38068\\appdata\\local\\programs\\python\\python311\\lib\\site-packages (from google-genai) (2.32.3)\n",
      "Collecting websockets<15.1.0,>=13.0.0 (from google-genai)\n",
      "  Downloading websockets-15.0.1-cp311-cp311-win_amd64.whl.metadata (7.0 kB)\n",
      "Requirement already satisfied: typing-extensions<5.0.0,>=4.11.0 in c:\\users\\38068\\appdata\\roaming\\python\\python311\\site-packages (from google-genai) (4.12.2)\n",
      "Requirement already satisfied: idna>=2.8 in c:\\users\\38068\\appdata\\local\\programs\\python\\python311\\lib\\site-packages (from anyio<5.0.0,>=4.8.0->google-genai) (3.10)\n",
      "Requirement already satisfied: sniffio>=1.1 in c:\\users\\38068\\appdata\\local\\programs\\python\\python311\\lib\\site-packages (from anyio<5.0.0,>=4.8.0->google-genai) (1.3.1)\n",
      "Requirement already satisfied: cachetools<6.0,>=2.0.0 in c:\\users\\38068\\appdata\\local\\programs\\python\\python311\\lib\\site-packages (from google-auth<3.0.0,>=2.14.1->google-genai) (5.5.0)\n",
      "Requirement already satisfied: pyasn1-modules>=0.2.1 in c:\\users\\38068\\appdata\\local\\programs\\python\\python311\\lib\\site-packages (from google-auth<3.0.0,>=2.14.1->google-genai) (0.4.1)\n",
      "Requirement already satisfied: rsa<5,>=3.1.4 in c:\\users\\38068\\appdata\\local\\programs\\python\\python311\\lib\\site-packages (from google-auth<3.0.0,>=2.14.1->google-genai) (4.9)\n",
      "Requirement already satisfied: certifi in c:\\users\\38068\\appdata\\local\\programs\\python\\python311\\lib\\site-packages (from httpx<1.0.0,>=0.28.1->google-genai) (2024.12.14)\n",
      "Requirement already satisfied: httpcore==1.* in c:\\users\\38068\\appdata\\local\\programs\\python\\python311\\lib\\site-packages (from httpx<1.0.0,>=0.28.1->google-genai) (1.0.8)\n",
      "Requirement already satisfied: h11<0.15,>=0.13 in c:\\users\\38068\\appdata\\local\\programs\\python\\python311\\lib\\site-packages (from httpcore==1.*->httpx<1.0.0,>=0.28.1->google-genai) (0.14.0)\n",
      "Requirement already satisfied: annotated-types>=0.6.0 in c:\\users\\38068\\appdata\\local\\programs\\python\\python311\\lib\\site-packages (from pydantic<3.0.0,>=2.0.0->google-genai) (0.7.0)\n",
      "Requirement already satisfied: pydantic-core==2.27.2 in c:\\users\\38068\\appdata\\local\\programs\\python\\python311\\lib\\site-packages (from pydantic<3.0.0,>=2.0.0->google-genai) (2.27.2)\n",
      "Requirement already satisfied: charset-normalizer<4,>=2 in c:\\users\\38068\\appdata\\local\\programs\\python\\python311\\lib\\site-packages (from requests<3.0.0,>=2.28.1->google-genai) (3.4.1)\n",
      "Requirement already satisfied: urllib3<3,>=1.21.1 in c:\\users\\38068\\appdata\\local\\programs\\python\\python311\\lib\\site-packages (from requests<3.0.0,>=2.28.1->google-genai) (2.3.0)\n",
      "Requirement already satisfied: pyasn1<0.7.0,>=0.4.6 in c:\\users\\38068\\appdata\\local\\programs\\python\\python311\\lib\\site-packages (from pyasn1-modules>=0.2.1->google-auth<3.0.0,>=2.14.1->google-genai) (0.6.1)\n",
      "Using cached google_genai-1.12.1-py3-none-any.whl (165 kB)\n",
      "Downloading websockets-15.0.1-cp311-cp311-win_amd64.whl (176 kB)\n",
      "   ---------------------------------------- 0.0/176.8 kB ? eta -:--:--\n",
      "   ---------------------------------------- 0.0/176.8 kB ? eta -:--:--\n",
      "   -- ------------------------------------- 10.2/176.8 kB ? eta -:--:--\n",
      "   ---- ---------------------------------- 20.5/176.8 kB 330.3 kB/s eta 0:00:01\n",
      "   ------ -------------------------------- 30.7/176.8 kB 262.6 kB/s eta 0:00:01\n",
      "   --------------- ----------------------- 71.7/176.8 kB 393.8 kB/s eta 0:00:01\n",
      "   --------------------------------- ---- 153.6/176.8 kB 706.2 kB/s eta 0:00:01\n",
      "   -------------------------------------- 176.8/176.8 kB 764.2 kB/s eta 0:00:00\n",
      "Installing collected packages: websockets, google-genai\n",
      "Successfully installed google-genai-1.12.1 websockets-15.0.1\n"
     ]
    }
   ],
   "source": [
    "%pip install google-genai"
   ]
  },
  {
   "cell_type": "code",
   "execution_count": 4,
   "metadata": {},
   "outputs": [],
   "source": [
    "from google import genai\n",
    "from google.genai import types\n",
    "from PIL import Image\n",
    "from io import BytesIO\n",
    "import base64\n",
    "\n",
    "import os\n",
    "import dotenv\n",
    "\n",
    "dotenv.load_dotenv()\n",
    "\n",
    "os.environ['GOOGLE_API_KEY'] = os.getenv('GOOGLE_API_KEY')\n",
    "\n",
    "client = genai.Client()\n",
    "\n",
    "contents = (\"\"\"\n",
    "            Main subject:\n",
    "AURA is a sleek, humanoid robot standing at average human height (about 170 cm), with a soft white-and-silver composite body.\n",
    "Her outer shell is made of matte smart-alloy plating with glowing seams of soft blue or violet light, subtly pulsating in sync with her activity.\n",
    "Her face is smooth and expressive, made of flexible nanomaterial allowing minimal facial expressions — gentle eyes with adaptive LED pupils that change color depending on mood (blue = neutral, green = encouraging, amber = analytical).\n",
    "Around her temples, fine silver lines flow into a translucent holographic headband that projects subtle data visuals — math formulas, maps, or student profiles.\n",
    "Design Elements:\n",
    "Her chest plate displays a holographic badge with an open book and a brain icon — symbolizing the fusion of knowledge and AI.\n",
    "Fingers are slender and jointed, with embedded laser pointers and touch sensors for precise board writing and digital interface navigation.\n",
    "She often holds a tablet-like projection pad or can summon a floating interactive UI, which only she controls with hand gestures.\n",
    "\n",
    "Generate imagewith main subject and background: \n",
    "            AI-assisted personalized learning paths displayed as glowing streams connecting a student to different knowledge spheres, \n",
    "            dreamlike and imaginative style\n",
    "\"\"\")\n",
    "\n",
    "response = client.models.generate_content(\n",
    "    model=\"gemini-2.0-flash-exp-image-generation\",\n",
    "    contents=contents,\n",
    "    config=types.GenerateContentConfig(\n",
    "      response_modalities=['TEXT', 'IMAGE']\n",
    "    )\n",
    ")\n",
    "\n",
    "for part in response.candidates[0].content.parts:\n",
    "  if part.text is not None:\n",
    "    print(part.text)\n",
    "  elif part.inline_data is not None:\n",
    "    image = Image.open(BytesIO((part.inline_data.data)))\n",
    "    image.save('gemini-native-image3.png')\n",
    "    image.show()"
   ]
  }
 ],
 "metadata": {
  "kernelspec": {
   "display_name": "Python 3",
   "language": "python",
   "name": "python3"
  },
  "language_info": {
   "codemirror_mode": {
    "name": "ipython",
    "version": 3
   },
   "file_extension": ".py",
   "mimetype": "text/x-python",
   "name": "python",
   "nbconvert_exporter": "python",
   "pygments_lexer": "ipython3",
   "version": "3.11.9"
  }
 },
 "nbformat": 4,
 "nbformat_minor": 2
}
